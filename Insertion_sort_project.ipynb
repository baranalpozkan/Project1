{
 "cells": [
  {
   "cell_type": "code",
   "execution_count": null,
   "id": "a100f5ad-4040-4fc0-81ec-38499e4d96d6",
   "metadata": {},
   "outputs": [],
   "source": [
    "Proje 1\n",
    "[22,27,16,2,18,6] -> Insertion Sort\n",
    "\n",
    "Yukarı verilen dizinin sort türüne göre aşamalarını yazınız.\n",
    "Big-O gösterimini yazınız.\n",
    "Time Complexity: Average case: Aradığımız sayının ortada olması,Worst case: Aradığımız sayının sonda olması, Best case: Aradığımız sayının dizinin en başında olması.\n",
    "Dizi sıralandıktan sonra 18 sayısı hangi case kapsamına girer? Yazınız.\n",
    "\n",
    "\n",
    "[7,3,5,8,2,9,4,15,6] dizisinin Insertion Sort'a göre ilk 4 adımını yazınız."
   ]
  },
  {
   "cell_type": "code",
   "execution_count": null,
   "id": "7b56bb95-7b0b-42e1-a976-f25590b2f542",
   "metadata": {},
   "outputs": [],
   "source": [
    "Answers:\n",
    "\n",
    "1- n -> [22,27,16,2,18,6], n-1 -> [2,27,16,22,18,6], n-2 -> [2,6,16,22,18,27], n-3 -> [2,6,16,22,18,27], n-4 -> [2,6,16,18,22,27], n-5 -> [2,6,16,18,22,27]\n",
    "2- (n*(n+1))/2 = (n^2+n)/2 -> O(n^2)=O(36)\n",
    "3- Average case:O(n^2), Worst case:O(n^2), Best case: (Hepsi sıralı gelmiş olabilir.) -> O(n)\n",
    "4- Sıralandıktan sonra Average Case'e girer olarak değerlendirbiliriz.\n",
    "5- n-> [7,3,5,8,2,9,4,15,6], n-1-> [2,3,5,8,7,9,4,15,6], n-2-> [2,3,5,8,7,9,4,15,6], n-3-> [2,3,4,8,7,9,5,15,6], n-4-> [2,3,4,5,7,9,8,15,6], n-5-> [2,3,4,5,6,9,8,15,7]\n",
    "\n"
   ]
  }
 ],
 "metadata": {
  "kernelspec": {
   "display_name": "Python 3 (ipykernel)",
   "language": "python",
   "name": "python3"
  },
  "language_info": {
   "codemirror_mode": {
    "name": "ipython",
    "version": 3
   },
   "file_extension": ".py",
   "mimetype": "text/x-python",
   "name": "python",
   "nbconvert_exporter": "python",
   "pygments_lexer": "ipython3",
   "version": "3.8.8"
  }
 },
 "nbformat": 4,
 "nbformat_minor": 5
}
